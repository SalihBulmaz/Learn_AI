{
 "cells": [
  {
   "cell_type": "markdown",
   "id": "dc1b7cd0",
   "metadata": {
    "lines_to_next_cell": 0
   },
   "source": [
    "# Scikit-learn ile Makine Öğrenmesi\n",
    "\n",
    "## Giriş\n",
    "\n",
    "Scikit-learn, Python'da makine öğrenmesi için en popüler ve kapsamlı kütüphanedir. Bu ders, veri bilimi araçlarından makine öğrenmesi araçlarına geçiş için temel oluşturacak.\n",
    "\n",
    "## Öğrenme Hedefleri\n",
    "\n",
    "Bu dersin sonunda:\n",
    "- Scikit-learn'ün temel yapısını ve API'sini anlayacaksınız\n",
    "- Supervised ve unsupervised learning algoritmalarını öğreneceksiniz\n",
    "- Model değerlendirme ve validasyon tekniklerini kavrayacaksınız\n",
    "- Feature engineering ve preprocessing konularında uzmanlaşacaksınız\n",
    "- Hyperparameter tuning ve model optimizasyonu yapabileceksiniz\n",
    "\n",
    "## İçerik\n",
    "\n",
    "### 1. Scikit-learn Temelleri\n",
    "\n",
    "#### 1.1 Kütüphane Yapısı"
   ]
  },
  {
   "cell_type": "code",
   "execution_count": null,
   "id": "584973d0",
   "metadata": {},
   "outputs": [],
   "source": [
    "# Ana modüller\n",
    "from sklearn import datasets, preprocessing, model_selection, metrics\n",
    "from sklearn.linear_model import LinearRegression, LogisticRegression\n",
    "from sklearn.ensemble import RandomForestClassifier, GradientBoostingRegressor\n",
    "from sklearn.svm import SVC, SVR\n",
    "from sklearn.cluster import KMeans, DBSCAN\n",
    "from sklearn.decomposition import PCA"
   ]
  },
  {
   "cell_type": "markdown",
   "id": "04da66a8",
   "metadata": {
    "lines_to_next_cell": 0
   },
   "source": [
    "#### 1.2 Estimator API\n",
    "Scikit-learn'de tüm modeller aynı API'yi takip eder:\n",
    "- `fit()`: Modeli eğitir\n",
    "- `predict()`: Tahmin yapar\n",
    "- `score()`: Model performansını değerlendirir\n",
    "- `transform()`: Veriyi dönüştürür\n",
    "\n",
    "### 2. Veri Hazırlama ve Preprocessing\n",
    "\n",
    "#### 2.1 Veri Yükleme"
   ]
  },
  {
   "cell_type": "code",
   "execution_count": null,
   "id": "63b1f79c",
   "metadata": {},
   "outputs": [],
   "source": [
    "from sklearn.datasets import load_iris, load_boston, make_classification\n",
    "from sklearn.model_selection import train_test_split\n",
    "\n",
    "# Built-in datasets\n",
    "iris = load_iris()\n",
    "X, y = iris.data, iris.target\n",
    "\n",
    "# Veriyi train/test olarak bölme\n",
    "X_train, X_test, y_train, y_test = train_test_split(\n",
    "    X, y, test_size=0.2, random_state=42\n",
    ")"
   ]
  },
  {
   "cell_type": "markdown",
   "id": "32226644",
   "metadata": {
    "lines_to_next_cell": 0
   },
   "source": [
    "#### 2.2 Feature Scaling"
   ]
  },
  {
   "cell_type": "code",
   "execution_count": null,
   "id": "9309bbe2",
   "metadata": {},
   "outputs": [],
   "source": [
    "from sklearn.preprocessing import StandardScaler, MinMaxScaler, RobustScaler\n",
    "\n",
    "# Standardization (Z-score normalization)\n",
    "scaler = StandardScaler()\n",
    "X_scaled = scaler.fit_transform(X)\n",
    "\n",
    "# Min-Max scaling\n",
    "minmax_scaler = MinMaxScaler()\n",
    "X_minmax = minmax_scaler.fit_transform(X)"
   ]
  },
  {
   "cell_type": "markdown",
   "id": "4e374325",
   "metadata": {
    "lines_to_next_cell": 0
   },
   "source": [
    "#### 2.3 Encoding Categorical Variables"
   ]
  },
  {
   "cell_type": "code",
   "execution_count": null,
   "id": "74ee8771",
   "metadata": {},
   "outputs": [],
   "source": [
    "from sklearn.preprocessing import LabelEncoder, OneHotEncoder\n",
    "from sklearn.compose import ColumnTransformer\n",
    "\n",
    "# Label encoding\n",
    "le = LabelEncoder()\n",
    "y_encoded = le.fit_transform(y)\n",
    "\n",
    "# One-hot encoding\n",
    "ohe = OneHotEncoder(sparse=False)\n",
    "X_encoded = ohe.fit_transform(X_categorical)"
   ]
  },
  {
   "cell_type": "markdown",
   "id": "1374bb92",
   "metadata": {
    "lines_to_next_cell": 0
   },
   "source": [
    "### 3. Supervised Learning\n",
    "\n",
    "#### 3.1 Linear Models"
   ]
  },
  {
   "cell_type": "code",
   "execution_count": null,
   "id": "6d5d353b",
   "metadata": {},
   "outputs": [],
   "source": [
    "# Linear Regression\n",
    "from sklearn.linear_model import LinearRegression, Ridge, Lasso\n",
    "\n",
    "lr = LinearRegression()\n",
    "lr.fit(X_train, y_train)\n",
    "y_pred = lr.predict(X_test)\n",
    "\n",
    "# Ridge Regression (L2 regularization)\n",
    "ridge = Ridge(alpha=1.0)\n",
    "ridge.fit(X_train, y_train)\n",
    "\n",
    "# Lasso Regression (L1 regularization)\n",
    "lasso = Lasso(alpha=0.1)\n",
    "lasso.fit(X_train, y_train)"
   ]
  },
  {
   "cell_type": "markdown",
   "id": "1145b006",
   "metadata": {
    "lines_to_next_cell": 0
   },
   "source": [
    "#### 3.2 Classification Models"
   ]
  },
  {
   "cell_type": "code",
   "execution_count": null,
   "id": "1d248559",
   "metadata": {},
   "outputs": [],
   "source": [
    "# Logistic Regression\n",
    "from sklearn.linear_model import LogisticRegression\n",
    "\n",
    "log_reg = LogisticRegression(random_state=42)\n",
    "log_reg.fit(X_train, y_train)\n",
    "\n",
    "# Support Vector Machines\n",
    "from sklearn.svm import SVC\n",
    "\n",
    "svm = SVC(kernel='rbf', C=1.0, gamma='scale')\n",
    "svm.fit(X_train, y_train)\n",
    "\n",
    "# Random Forest\n",
    "from sklearn.ensemble import RandomForestClassifier\n",
    "\n",
    "rf = RandomForestClassifier(n_estimators=100, random_state=42)\n",
    "rf.fit(X_train, y_train)"
   ]
  },
  {
   "cell_type": "markdown",
   "id": "8d494e2e",
   "metadata": {
    "lines_to_next_cell": 0
   },
   "source": [
    "### 4. Unsupervised Learning\n",
    "\n",
    "#### 4.1 Clustering"
   ]
  },
  {
   "cell_type": "code",
   "execution_count": null,
   "id": "435e05a9",
   "metadata": {},
   "outputs": [],
   "source": [
    "# K-Means Clustering\n",
    "from sklearn.cluster import KMeans\n",
    "\n",
    "kmeans = KMeans(n_clusters=3, random_state=42)\n",
    "clusters = kmeans.fit_predict(X)\n",
    "\n",
    "# DBSCAN\n",
    "from sklearn.cluster import DBSCAN\n",
    "\n",
    "dbscan = DBSCAN(eps=0.5, min_samples=5)\n",
    "clusters = dbscan.fit_predict(X)"
   ]
  },
  {
   "cell_type": "markdown",
   "id": "9a760716",
   "metadata": {
    "lines_to_next_cell": 0
   },
   "source": [
    "#### 4.2 Dimensionality Reduction"
   ]
  },
  {
   "cell_type": "code",
   "execution_count": null,
   "id": "bb3bf560",
   "metadata": {},
   "outputs": [],
   "source": [
    "# Principal Component Analysis\n",
    "from sklearn.decomposition import PCA\n",
    "\n",
    "pca = PCA(n_components=2)\n",
    "X_pca = pca.fit_transform(X)\n",
    "\n",
    "# t-SNE\n",
    "from sklearn.manifold import TSNE\n",
    "\n",
    "tsne = TSNE(n_components=2, random_state=42)\n",
    "X_tsne = tsne.fit_transform(X)"
   ]
  },
  {
   "cell_type": "markdown",
   "id": "1f37959e",
   "metadata": {
    "lines_to_next_cell": 0
   },
   "source": [
    "### 5. Model Değerlendirme\n",
    "\n",
    "#### 5.1 Cross-Validation"
   ]
  },
  {
   "cell_type": "code",
   "execution_count": null,
   "id": "13e073c7",
   "metadata": {},
   "outputs": [],
   "source": [
    "from sklearn.model_selection import cross_val_score, KFold\n",
    "\n",
    "# K-fold cross validation\n",
    "cv_scores = cross_val_score(model, X, y, cv=5)\n",
    "\n",
    "# Stratified K-fold (classification için)\n",
    "from sklearn.model_selection import StratifiedKFold\n",
    "skf = StratifiedKFold(n_splits=5, shuffle=True, random_state=42)"
   ]
  },
  {
   "cell_type": "markdown",
   "id": "c15f95d4",
   "metadata": {
    "lines_to_next_cell": 0
   },
   "source": [
    "#### 5.2 Performance Metrics"
   ]
  },
  {
   "cell_type": "code",
   "execution_count": null,
   "id": "6924c378",
   "metadata": {},
   "outputs": [],
   "source": [
    "from sklearn.metrics import accuracy_score, precision_score, recall_score, f1_score\n",
    "from sklearn.metrics import mean_squared_error, r2_score\n",
    "from sklearn.metrics import classification_report, confusion_matrix\n",
    "\n",
    "# Classification metrics\n",
    "accuracy = accuracy_score(y_test, y_pred)\n",
    "precision = precision_score(y_test, y_pred, average='weighted')\n",
    "recall = recall_score(y_test, y_pred, average='weighted')\n",
    "f1 = f1_score(y_test, y_pred, average='weighted')\n",
    "\n",
    "# Regression metrics\n",
    "mse = mean_squared_error(y_test, y_pred)\n",
    "r2 = r2_score(y_test, y_pred)"
   ]
  },
  {
   "cell_type": "markdown",
   "id": "8b3382ea",
   "metadata": {
    "lines_to_next_cell": 0
   },
   "source": [
    "### 6. Hyperparameter Tuning\n",
    "\n",
    "#### 6.1 Grid Search"
   ]
  },
  {
   "cell_type": "code",
   "execution_count": null,
   "id": "75ed03e9",
   "metadata": {},
   "outputs": [],
   "source": [
    "from sklearn.model_selection import GridSearchCV\n",
    "\n",
    "param_grid = {\n",
    "    'C': [0.1, 1, 10, 100],\n",
    "    'gamma': [0.001, 0.01, 0.1, 1],\n",
    "    'kernel': ['rbf', 'linear']\n",
    "}\n",
    "\n",
    "grid_search = GridSearchCV(SVC(), param_grid, cv=5, scoring='accuracy')\n",
    "grid_search.fit(X_train, y_train)\n",
    "\n",
    "best_params = grid_search.best_params_\n",
    "best_score = grid_search.best_score_"
   ]
  },
  {
   "cell_type": "markdown",
   "id": "25eaf6bb",
   "metadata": {
    "lines_to_next_cell": 0
   },
   "source": [
    "#### 6.2 Random Search"
   ]
  },
  {
   "cell_type": "code",
   "execution_count": null,
   "id": "03143684",
   "metadata": {},
   "outputs": [],
   "source": [
    "from sklearn.model_selection import RandomizedSearchCV\n",
    "from scipy.stats import uniform, randint\n",
    "\n",
    "param_distributions = {\n",
    "    'C': uniform(0.1, 10),\n",
    "    'gamma': uniform(0.001, 1),\n",
    "    'kernel': ['rbf', 'linear']\n",
    "}\n",
    "\n",
    "random_search = RandomizedSearchCV(\n",
    "    SVC(), param_distributions, n_iter=100, cv=5, random_state=42\n",
    ")\n",
    "random_search.fit(X_train, y_train)"
   ]
  },
  {
   "cell_type": "markdown",
   "id": "78ee5dd9",
   "metadata": {
    "lines_to_next_cell": 0
   },
   "source": [
    "### 7. Pipeline ve Feature Union\n",
    "\n",
    "#### 7.1 Pipeline"
   ]
  },
  {
   "cell_type": "code",
   "execution_count": null,
   "id": "1d9845a8",
   "metadata": {},
   "outputs": [],
   "source": [
    "from sklearn.pipeline import Pipeline\n",
    "from sklearn.preprocessing import StandardScaler\n",
    "from sklearn.ensemble import RandomForestClassifier\n",
    "\n",
    "pipeline = Pipeline([\n",
    "    ('scaler', StandardScaler()),\n",
    "    ('classifier', RandomForestClassifier(random_state=42))\n",
    "])\n",
    "\n",
    "pipeline.fit(X_train, y_train)\n",
    "y_pred = pipeline.predict(X_test)"
   ]
  },
  {
   "cell_type": "markdown",
   "id": "ed7c551c",
   "metadata": {
    "lines_to_next_cell": 0
   },
   "source": [
    "#### 7.2 Feature Union"
   ]
  },
  {
   "cell_type": "code",
   "execution_count": null,
   "id": "fd0a4297",
   "metadata": {},
   "outputs": [],
   "source": [
    "from sklearn.pipeline import FeatureUnion\n",
    "from sklearn.decomposition import PCA\n",
    "from sklearn.feature_selection import SelectKBest\n",
    "\n",
    "feature_union = FeatureUnion([\n",
    "    ('pca', PCA(n_components=3)),\n",
    "    ('select', SelectKBest(k=3))\n",
    "])\n",
    "\n",
    "X_transformed = feature_union.fit_transform(X, y)"
   ]
  },
  {
   "cell_type": "markdown",
   "id": "81e097c9",
   "metadata": {
    "lines_to_next_cell": 0
   },
   "source": [
    "### 8. Ensemble Methods\n",
    "\n",
    "#### 8.1 Voting Classifier"
   ]
  },
  {
   "cell_type": "code",
   "execution_count": null,
   "id": "0848be08",
   "metadata": {},
   "outputs": [],
   "source": [
    "from sklearn.ensemble import VotingClassifier\n",
    "from sklearn.linear_model import LogisticRegression\n",
    "from sklearn.svm import SVC\n",
    "from sklearn.ensemble import RandomForestClassifier\n",
    "\n",
    "estimators = [\n",
    "    ('lr', LogisticRegression(random_state=42)),\n",
    "    ('svc', SVC(random_state=42)),\n",
    "    ('rf', RandomForestClassifier(random_state=42))\n",
    "]\n",
    "\n",
    "voting_clf = VotingClassifier(estimators=estimators, voting='hard')\n",
    "voting_clf.fit(X_train, y_train)"
   ]
  },
  {
   "cell_type": "markdown",
   "id": "2939ea47",
   "metadata": {
    "lines_to_next_cell": 0
   },
   "source": [
    "#### 8.2 Bagging ve Boosting"
   ]
  },
  {
   "cell_type": "code",
   "execution_count": null,
   "id": "b46435c3",
   "metadata": {},
   "outputs": [],
   "source": [
    "from sklearn.ensemble import BaggingClassifier, AdaBoostClassifier\n",
    "from sklearn.tree import DecisionTreeClassifier\n",
    "\n",
    "# Bagging\n",
    "bagging = BaggingClassifier(\n",
    "    DecisionTreeClassifier(), n_estimators=100, random_state=42\n",
    ")\n",
    "\n",
    "# AdaBoost\n",
    "adaboost = AdaBoostClassifier(\n",
    "    DecisionTreeClassifier(), n_estimators=100, random_state=42\n",
    ")"
   ]
  },
  {
   "cell_type": "markdown",
   "id": "11402cfb",
   "metadata": {},
   "source": [
    "### 9. Model Persistence"
   ]
  },
  {
   "cell_type": "code",
   "execution_count": null,
   "id": "97035e3f",
   "metadata": {},
   "outputs": [],
   "source": [
    "import joblib\n",
    "\n",
    "# Model kaydetme\n",
    "joblib.dump(model, 'model.pkl')\n",
    "\n",
    "# Model yükleme\n",
    "loaded_model = joblib.load('model.pkl')"
   ]
  },
  {
   "cell_type": "markdown",
   "id": "0daac1d8",
   "metadata": {},
   "source": [
    "### 10. Best Practices\n",
    "\n",
    "1. **Veri Bölme**: Her zaman train/validation/test split yapın\n",
    "2. **Cross-Validation**: Model performansını değerlendirmek için CV kullanın\n",
    "3. **Feature Scaling**: Özellikle distance-based algoritmalar için\n",
    "4. **Hyperparameter Tuning**: Grid search veya random search kullanın\n",
    "5. **Ensemble Methods**: Tek bir model yerine ensemble kullanmayı düşünün\n",
    "6. **Model Interpretability**: Basit modellerle başlayın, gerektiğinde karmaşıklaştırın\n",
    "\n",
    "## Sonraki Adımlar\n",
    "\n",
    "Bu dersi tamamladıktan sonra:\n",
    "1. **Deep Learning**: TensorFlow/Keras veya PyTorch\n",
    "2. **Advanced ML**: XGBoost, LightGBM, CatBoost\n",
    "3. **AutoML**: Auto-sklearn, H2O AutoML\n",
    "4. **MLOps**: Model deployment ve monitoring\n",
    "\n",
    "## Kaynaklar\n",
    "\n",
    "- [Scikit-learn Documentation](https://scikit-learn.org/stable/)\n",
    "- [Scikit-learn User Guide](https://scikit-learn.org/stable/user_guide.html)\n",
    "- [Scikit-learn Examples](https://scikit-learn.org/stable/auto_examples/)\n",
    "- [Hands-On Machine Learning](https://github.com/ageron/handson-ml2) "
   ]
  }
 ],
 "metadata": {
  "jupytext": {
   "cell_metadata_filter": "-all",
   "main_language": "python",
   "notebook_metadata_filter": "-all"
  }
 },
 "nbformat": 4,
 "nbformat_minor": 5
}
